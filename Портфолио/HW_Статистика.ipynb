{
 "cells": [
  {
   "cell_type": "markdown",
   "id": "a3358b26",
   "metadata": {},
   "source": [
    "# Задание 1\n",
    "\n",
    "1. Импортируйте файл «Данные для ДЗ 5 Корреляции.csv».\n",
    "2. Постройте гистограммы распределения для рядов *PHYSICS* и *BLOOD* и сделайте визуальный вывод о нормальности распределения данных.\n",
    "3. Постройте *scatterplot* этих двух величин и сделайте визуальный вывод о корреляции между ними.\n",
    "4. Создайте функцию ***proxi_ranges***, которая берет на вход\n",
    "    - Ряд 1 (***r1***)\n",
    "    - Ряд 2 (***r2***)\n",
    "    - Уровень значимости ***alpha*** (имеет дефолтное значение = 5%)\n",
    "    \n",
    "    Данная функция выполняет следующие действия:\n",
    "    \n",
    "    - Вычисляет дисперсии рядов ***r1*** и ***r2*** и их ковариацию (с помощью функции *cov* из библиотеки *numpy*)\n",
    "    - Принтит эти результаты с подписями (в user-friendly манере).\n",
    "    - Вычисляет корреляцию Пирсона (*pearsonr* из библиотеки *scipy.stats*) и корреляцию Спирмена (*spearmanr* из библиотеки *scipy.stats*) рядов ***r1*** и ***r2***, а также *****p_value* этих корреляций.\n",
    "    - Принтит результаты корреляционного анализа: корреляция равна нулю, если p_value больше ***alpha*** . В противном случае принтит, является ли корреляция слабой (меньше 0.3), средней (от 0.3 до 0.7) или сильной (больше 0.7) (как для корреляции Пирсона, так и для корреляции Спирмена отдельно).\n",
    "    - Функция не обладает return.\n",
    "5. Примените функцию ***proxi_ranges*** к рядам *PHYSICS* и *BLOOD* из csv-файла."
   ]
  },
  {
   "cell_type": "code",
   "execution_count": 2,
   "id": "c3377cc5",
   "metadata": {},
   "outputs": [],
   "source": [
    "import pandas as pd"
   ]
  },
  {
   "cell_type": "code",
   "execution_count": 3,
   "id": "c2a1d3c5",
   "metadata": {},
   "outputs": [
    {
     "data": {
      "text/html": [
       "<div>\n",
       "<style scoped>\n",
       "    .dataframe tbody tr th:only-of-type {\n",
       "        vertical-align: middle;\n",
       "    }\n",
       "\n",
       "    .dataframe tbody tr th {\n",
       "        vertical-align: top;\n",
       "    }\n",
       "\n",
       "    .dataframe thead th {\n",
       "        text-align: right;\n",
       "    }\n",
       "</style>\n",
       "<table border=\"1\" class=\"dataframe\">\n",
       "  <thead>\n",
       "    <tr style=\"text-align: right;\">\n",
       "      <th></th>\n",
       "      <th>PHYSICS</th>\n",
       "      <th>BLOOD</th>\n",
       "    </tr>\n",
       "  </thead>\n",
       "  <tbody>\n",
       "    <tr>\n",
       "      <th>0</th>\n",
       "      <td>48</td>\n",
       "      <td>132</td>\n",
       "    </tr>\n",
       "    <tr>\n",
       "      <th>1</th>\n",
       "      <td>138</td>\n",
       "      <td>52</td>\n",
       "    </tr>\n",
       "    <tr>\n",
       "      <th>2</th>\n",
       "      <td>156</td>\n",
       "      <td>77</td>\n",
       "    </tr>\n",
       "    <tr>\n",
       "      <th>3</th>\n",
       "      <td>167</td>\n",
       "      <td>64</td>\n",
       "    </tr>\n",
       "    <tr>\n",
       "      <th>4</th>\n",
       "      <td>105</td>\n",
       "      <td>89</td>\n",
       "    </tr>\n",
       "    <tr>\n",
       "      <th>...</th>\n",
       "      <td>...</td>\n",
       "      <td>...</td>\n",
       "    </tr>\n",
       "    <tr>\n",
       "      <th>1430</th>\n",
       "      <td>174</td>\n",
       "      <td>52</td>\n",
       "    </tr>\n",
       "    <tr>\n",
       "      <th>1431</th>\n",
       "      <td>6</td>\n",
       "      <td>135</td>\n",
       "    </tr>\n",
       "    <tr>\n",
       "      <th>1432</th>\n",
       "      <td>131</td>\n",
       "      <td>58</td>\n",
       "    </tr>\n",
       "    <tr>\n",
       "      <th>1433</th>\n",
       "      <td>133</td>\n",
       "      <td>72</td>\n",
       "    </tr>\n",
       "    <tr>\n",
       "      <th>1434</th>\n",
       "      <td>50</td>\n",
       "      <td>106</td>\n",
       "    </tr>\n",
       "  </tbody>\n",
       "</table>\n",
       "<p>1435 rows × 2 columns</p>\n",
       "</div>"
      ],
      "text/plain": [
       "      PHYSICS  BLOOD\n",
       "0          48    132\n",
       "1         138     52\n",
       "2         156     77\n",
       "3         167     64\n",
       "4         105     89\n",
       "...       ...    ...\n",
       "1430      174     52\n",
       "1431        6    135\n",
       "1432      131     58\n",
       "1433      133     72\n",
       "1434       50    106\n",
       "\n",
       "[1435 rows x 2 columns]"
      ]
     },
     "execution_count": 3,
     "metadata": {},
     "output_type": "execute_result"
    }
   ],
   "source": [
    "df_corr = pd.read_csv('Данные для дз5 Корреляции.csv', sep=';')\n",
    "df_corr"
   ]
  },
  {
   "cell_type": "code",
   "execution_count": 4,
   "id": "d25ee0d2",
   "metadata": {},
   "outputs": [],
   "source": [
    "from matplotlib import pyplot as plt"
   ]
  },
  {
   "cell_type": "code",
   "execution_count": 5,
   "id": "55ce1fa5",
   "metadata": {
    "scrolled": true
   },
   "outputs": [
    {
     "data": {
      "image/png": "[encoded data removed]",
      "text/plain": [
       "<Figure size 720x360 with 1 Axes>"
      ]
     },
     "metadata": {
      "needs_background": "light"
     },
     "output_type": "display_data"
    }
   ],
   "source": [
    "plt.figure(figsize=(10,5))\n",
    "plt.title('Распределения')\n",
    "colors = ['red', 'tan']\n",
    "labels = ['PHYSICS','BLOOD']\n",
    "plt.hist(df_corr,   color=colors, label=labels)\n",
    "plt.legend(prop={'size': 10})\n",
    "plt.grid()\n",
    "plt.show()"
   ]
  },
  {
   "cell_type": "code",
   "execution_count": 7,
   "id": "9fb6a2b5",
   "metadata": {},
   "outputs": [
    {
     "name": "stderr",
     "output_type": "stream",
     "text": [
      "C:\\Users\\USMAN\\anaconda3\\lib\\site-packages\\seaborn\\distributions.py:2619: FutureWarning: `distplot` is a deprecated function and will be removed in a future version. Please adapt your code to use either `displot` (a figure-level function with similar flexibility) or `histplot` (an axes-level function for histograms).\n",
      "  warnings.warn(msg, FutureWarning)\n"
     ]
    },
    {
     "data": {
      "image/png": "[encoded data removed]",
      "text/plain": [
       "<Figure size 432x288 with 1 Axes>"
      ]
     },
     "metadata": {
      "needs_background": "light"
     },
     "output_type": "display_data"
    },
    {
     "name": "stderr",
     "output_type": "stream",
     "text": [
      "C:\\Users\\USMAN\\anaconda3\\lib\\site-packages\\seaborn\\distributions.py:2619: FutureWarning: `distplot` is a deprecated function and will be removed in a future version. Please adapt your code to use either `displot` (a figure-level function with similar flexibility) or `histplot` (an axes-level function for histograms).\n",
      "  warnings.warn(msg, FutureWarning)\n"
     ]
    },
    {
     "data": {
      "image/png": "[encoded data removed]",
      "text/plain": [
       "<Figure size 432x288 with 1 Axes>"
      ]
     },
     "metadata": {
      "needs_background": "light"
     },
     "output_type": "display_data"
    }
   ],
   "source": [
    "import seaborn as sns\n",
    "from scipy.stats import norm\n",
    "\n",
    "\n",
    "ax1 = sns.distplot(df_corr['PHYSICS'], color='blue', fit=norm)\n",
    "ax1.set(xlabel='Data', ylabel='Count')\n",
    "plt.show()\n",
    "ax2 = sns.distplot(df_corr['BLOOD'], color='orange', fit=norm)\n",
    "ax2.set(xlabel='Data', ylabel='Count')\n",
    "plt.show()"
   ]
  },
  {
   "cell_type": "code",
   "execution_count": 8,
   "id": "b0260010",
   "metadata": {
    "scrolled": true
   },
   "outputs": [
    {
     "data": {
      "image/png": "[encoded data removed]",
      "text/plain": [
       "<Figure size 720x360 with 1 Axes>"
      ]
     },
     "metadata": {
      "needs_background": "light"
     },
     "output_type": "display_data"
    }
   ],
   "source": [
    "plt.figure(figsize=(10,5))\n",
    "plt.title('Связь')\n",
    "plt.scatter(df_corr['BLOOD'],df_corr['PHYSICS'])\n",
    "plt.grid()\n",
    "plt.show()"
   ]
  },
  {
   "cell_type": "code",
   "execution_count": 9,
   "id": "fb7a9594",
   "metadata": {},
   "outputs": [],
   "source": [
    "import numpy as np\n",
    "from scipy import stats as st"
   ]
  },
  {
   "cell_type": "code",
   "execution_count": 10,
   "id": "2f846266",
   "metadata": {},
   "outputs": [],
   "source": [
    "def proxi_ranges(r1, r2, alpha = 0.05):\n",
    "    cov = np.cov(r1, r2)\n",
    "    \n",
    "    print('Ковариация: {:.2f}'.format(cov[0][1]))\n",
    "    print('Дисперсия для BLOOD: {:.2f}'.format(cov[0][0]))\n",
    "    print('Дисперсия для PHYSICS: {:.2f}'.format(cov[1][1]))\n",
    "    \n",
    "    pearson_v, pearson_p = st.pearsonr(r1, r2)\n",
    "    spearman_v, spearman_p = st.spearmanr(r1, r2)\n",
    "    \n",
    "    if pearson_p < alpha:\n",
    "        if abs(pearson_v) < 0.3:\n",
    "            pearson_resolution = 'слабая'\n",
    "        elif abs(pearson_v) < 0.7:\n",
    "            pearson_resolution = 'средняя'\n",
    "        else: pearson_resolution = 'сильная'\n",
    "        \n",
    "        print ('Корреляция Пирсона =', round(pearson_v,2), f'{pearson_resolution}')\n",
    "            \n",
    "    else: print('Корреляция Пирсона равна нулю')\n",
    "        \n",
    "     \n",
    "    if spearman_p < alpha:\n",
    "        if abs(spearman_v) < 0.3:\n",
    "            spearman_resolution = 'слабая'\n",
    "        elif abs(spearman_v) < 0.7:\n",
    "            spearman_resolution = 'средняя'\n",
    "        else: spearman_resolution = 'сильная'\n",
    "        \n",
    "        print ('Корреляция Спирмана =', round(spearman_v,2), f'{pearson_resolution}')\n",
    "            \n",
    "    else: print('Корреляция Спирмана равна нулю')   \n",
    "        \n",
    "    print (cov)"
   ]
  },
  {
   "cell_type": "code",
   "execution_count": 11,
   "id": "6d06afa7",
   "metadata": {},
   "outputs": [
    {
     "name": "stdout",
     "output_type": "stream",
     "text": [
      "Ковариация: -921.47\n",
      "Дисперсия для BLOOD: 726.64\n",
      "Дисперсия для PHYSICS: 2669.46\n",
      "Корреляция Пирсона = -0.66 средняя\n",
      "Корреляция Спирмана = -0.65 средняя\n",
      "[[ 726.63514256 -921.46692325]\n",
      " [-921.46692325 2669.4622843 ]]\n"
     ]
    }
   ],
   "source": [
    "proxi_ranges(df_corr['BLOOD'],df_corr['PHYSICS'])"
   ]
  },
  {
   "cell_type": "markdown",
   "id": "eaeee9be",
   "metadata": {},
   "source": [
    "### Задание 2\n",
    "\n",
    "1. Импортируйте файл «Данные для ДЗ 5 Манн-Уитни.csv».\n",
    "2. Постройте гистограмму рядов *BLOOD1* и *BLOOD2*.\n",
    "3. Создайте функцию **mann_whitney_func**, которая берет на вход: \n",
    "    - Ряд 1 (***r1***)\n",
    "    - Ряд 2 (***r2***)\n",
    "    - Уровень значимости ***alpha*** (имеет дефолтное значение = 5%)\n",
    "    \n",
    "    Данная функция выполняет следующие действия:\n",
    "    \n",
    "    - Вычисляет значение статистики Манна — Уитни и p_value нулевой гипотезы теста Манна-Уитни. Значение статистики записывается во внутреннюю переменную ***s***, а *p_value* - во внутреннюю переменную ***p***.\n",
    "    - Принт результата в зависимости от соотношения p_value и alpha («Распределения (не) равны»).\n",
    "    - Возвращает (в *return*) — внутренние переменные ***s*** и ***p***.\n",
    "    \n",
    "4. Примените эту функцию к рядам *BLOOD1* и *BLOOD2* из csv-файла.\n",
    "5. Примените к этим рядам также t-test для сравнения средних. Для этого используйте функцию ***test_calc*** из домашнего задания №4.\n",
    "6. Сделайте выводы по результатам теста Стьюдента и теста Манна-Уитни."
   ]
  },
  {
   "cell_type": "code",
   "execution_count": 12,
   "id": "a2075bf1",
   "metadata": {},
   "outputs": [],
   "source": [
    "df_mw = pd.read_csv('Данные для дз5 Манн-Уитни.csv', sep = ';')"
   ]
  },
  {
   "cell_type": "code",
   "execution_count": 13,
   "id": "fc2cc1a9",
   "metadata": {},
   "outputs": [
    {
     "data": {
      "text/html": [
       "<div>\n",
       "<style scoped>\n",
       "    .dataframe tbody tr th:only-of-type {\n",
       "        vertical-align: middle;\n",
       "    }\n",
       "\n",
       "    .dataframe tbody tr th {\n",
       "        vertical-align: top;\n",
       "    }\n",
       "\n",
       "    .dataframe thead th {\n",
       "        text-align: right;\n",
       "    }\n",
       "</style>\n",
       "<table border=\"1\" class=\"dataframe\">\n",
       "  <thead>\n",
       "    <tr style=\"text-align: right;\">\n",
       "      <th></th>\n",
       "      <th>BLOOD1</th>\n",
       "      <th>BLOOD2</th>\n",
       "    </tr>\n",
       "  </thead>\n",
       "  <tbody>\n",
       "    <tr>\n",
       "      <th>0</th>\n",
       "      <td>66</td>\n",
       "      <td>140.0</td>\n",
       "    </tr>\n",
       "    <tr>\n",
       "      <th>1</th>\n",
       "      <td>92</td>\n",
       "      <td>140.0</td>\n",
       "    </tr>\n",
       "    <tr>\n",
       "      <th>2</th>\n",
       "      <td>75</td>\n",
       "      <td>78.0</td>\n",
       "    </tr>\n",
       "    <tr>\n",
       "      <th>3</th>\n",
       "      <td>98</td>\n",
       "      <td>79.0</td>\n",
       "    </tr>\n",
       "    <tr>\n",
       "      <th>4</th>\n",
       "      <td>84</td>\n",
       "      <td>80.0</td>\n",
       "    </tr>\n",
       "    <tr>\n",
       "      <th>...</th>\n",
       "      <td>...</td>\n",
       "      <td>...</td>\n",
       "    </tr>\n",
       "    <tr>\n",
       "      <th>684</th>\n",
       "      <td>81</td>\n",
       "      <td>NaN</td>\n",
       "    </tr>\n",
       "    <tr>\n",
       "      <th>685</th>\n",
       "      <td>121</td>\n",
       "      <td>NaN</td>\n",
       "    </tr>\n",
       "    <tr>\n",
       "      <th>686</th>\n",
       "      <td>98</td>\n",
       "      <td>NaN</td>\n",
       "    </tr>\n",
       "    <tr>\n",
       "      <th>687</th>\n",
       "      <td>96</td>\n",
       "      <td>NaN</td>\n",
       "    </tr>\n",
       "    <tr>\n",
       "      <th>688</th>\n",
       "      <td>118</td>\n",
       "      <td>NaN</td>\n",
       "    </tr>\n",
       "  </tbody>\n",
       "</table>\n",
       "<p>689 rows × 2 columns</p>\n",
       "</div>"
      ],
      "text/plain": [
       "     BLOOD1  BLOOD2\n",
       "0        66   140.0\n",
       "1        92   140.0\n",
       "2        75    78.0\n",
       "3        98    79.0\n",
       "4        84    80.0\n",
       "..      ...     ...\n",
       "684      81     NaN\n",
       "685     121     NaN\n",
       "686      98     NaN\n",
       "687      96     NaN\n",
       "688     118     NaN\n",
       "\n",
       "[689 rows x 2 columns]"
      ]
     },
     "execution_count": 13,
     "metadata": {},
     "output_type": "execute_result"
    }
   ],
   "source": [
    "df_mw"
   ]
  },
  {
   "cell_type": "code",
   "execution_count": 14,
   "id": "fda8a386",
   "metadata": {},
   "outputs": [],
   "source": [
    "df_mw = df_mw.dropna()"
   ]
  },
  {
   "cell_type": "code",
   "execution_count": 15,
   "id": "b9edcfab",
   "metadata": {},
   "outputs": [
    {
     "data": {
      "text/html": [
       "<div>\n",
       "<style scoped>\n",
       "    .dataframe tbody tr th:only-of-type {\n",
       "        vertical-align: middle;\n",
       "    }\n",
       "\n",
       "    .dataframe tbody tr th {\n",
       "        vertical-align: top;\n",
       "    }\n",
       "\n",
       "    .dataframe thead th {\n",
       "        text-align: right;\n",
       "    }\n",
       "</style>\n",
       "<table border=\"1\" class=\"dataframe\">\n",
       "  <thead>\n",
       "    <tr style=\"text-align: right;\">\n",
       "      <th></th>\n",
       "      <th>BLOOD1</th>\n",
       "      <th>BLOOD2</th>\n",
       "    </tr>\n",
       "  </thead>\n",
       "  <tbody>\n",
       "    <tr>\n",
       "      <th>0</th>\n",
       "      <td>66</td>\n",
       "      <td>140.0</td>\n",
       "    </tr>\n",
       "    <tr>\n",
       "      <th>1</th>\n",
       "      <td>92</td>\n",
       "      <td>140.0</td>\n",
       "    </tr>\n",
       "    <tr>\n",
       "      <th>2</th>\n",
       "      <td>75</td>\n",
       "      <td>78.0</td>\n",
       "    </tr>\n",
       "    <tr>\n",
       "      <th>3</th>\n",
       "      <td>98</td>\n",
       "      <td>79.0</td>\n",
       "    </tr>\n",
       "    <tr>\n",
       "      <th>4</th>\n",
       "      <td>84</td>\n",
       "      <td>80.0</td>\n",
       "    </tr>\n",
       "    <tr>\n",
       "      <th>...</th>\n",
       "      <td>...</td>\n",
       "      <td>...</td>\n",
       "    </tr>\n",
       "    <tr>\n",
       "      <th>600</th>\n",
       "      <td>95</td>\n",
       "      <td>61.0</td>\n",
       "    </tr>\n",
       "    <tr>\n",
       "      <th>601</th>\n",
       "      <td>61</td>\n",
       "      <td>61.0</td>\n",
       "    </tr>\n",
       "    <tr>\n",
       "      <th>602</th>\n",
       "      <td>63</td>\n",
       "      <td>60.0</td>\n",
       "    </tr>\n",
       "    <tr>\n",
       "      <th>603</th>\n",
       "      <td>55</td>\n",
       "      <td>60.0</td>\n",
       "    </tr>\n",
       "    <tr>\n",
       "      <th>604</th>\n",
       "      <td>97</td>\n",
       "      <td>60.0</td>\n",
       "    </tr>\n",
       "  </tbody>\n",
       "</table>\n",
       "<p>605 rows × 2 columns</p>\n",
       "</div>"
      ],
      "text/plain": [
       "     BLOOD1  BLOOD2\n",
       "0        66   140.0\n",
       "1        92   140.0\n",
       "2        75    78.0\n",
       "3        98    79.0\n",
       "4        84    80.0\n",
       "..      ...     ...\n",
       "600      95    61.0\n",
       "601      61    61.0\n",
       "602      63    60.0\n",
       "603      55    60.0\n",
       "604      97    60.0\n",
       "\n",
       "[605 rows x 2 columns]"
      ]
     },
     "execution_count": 15,
     "metadata": {},
     "output_type": "execute_result"
    }
   ],
   "source": [
    "df_mw"
   ]
  },
  {
   "cell_type": "code",
   "execution_count": 16,
   "id": "26684af1",
   "metadata": {},
   "outputs": [
    {
     "data": {
      "image/png": "[encoded data removed]",
      "text/plain": [
       "<Figure size 720x360 with 1 Axes>"
      ]
     },
     "metadata": {
      "needs_background": "light"
     },
     "output_type": "display_data"
    }
   ],
   "source": [
    "plt.figure(figsize=(10,5))\n",
    "plt.title('Распределения')\n",
    "colors = ['red', 'tan']\n",
    "labels = ['BLOOD1','BLOOD2']\n",
    "plt.hist(df_mw,   color=colors, label=labels)\n",
    "plt.legend(prop={'size': 10})\n",
    "plt.grid()\n",
    "plt.show()"
   ]
  },
  {
   "cell_type": "code",
   "execution_count": 17,
   "id": "ad9ed45f",
   "metadata": {},
   "outputs": [],
   "source": [
    "def mann_whitney_func(r1, r2, alpha = 0.05):\n",
    "    \n",
    "    s, p_value = st.mannwhitneyu(r1,r2)\n",
    "    \n",
    "    if p_value < alpha:\n",
    "        print('распределения не равны')\n",
    "    else: print('распределения равны')\n",
    "    \n",
    "    return s, p_value"
   ]
  },
  {
   "cell_type": "code",
   "execution_count": 18,
   "id": "c65ad77a",
   "metadata": {},
   "outputs": [
    {
     "name": "stdout",
     "output_type": "stream",
     "text": [
      "распределения равны\n"
     ]
    },
    {
     "data": {
      "text/plain": [
       "(178857.0, 0.49411579709672515)"
      ]
     },
     "execution_count": 18,
     "metadata": {},
     "output_type": "execute_result"
    }
   ],
   "source": [
    "mann_whitney_func(df_mw['BLOOD1'],df_mw['BLOOD2'])"
   ]
  },
  {
   "cell_type": "code",
   "execution_count": 19,
   "id": "477d07dd",
   "metadata": {},
   "outputs": [],
   "source": [
    "def test_calc(r1, r2, alpha=0.05):\n",
    "    s, p_value = st.ttest_ind(r1, r2)\n",
    "    \n",
    "    if p_value < alpha:\n",
    "        print('распределения не равны')\n",
    "    else: print('распределения равны')\n",
    "    \n",
    "    return s, p_value"
   ]
  },
  {
   "cell_type": "code",
   "execution_count": 20,
   "id": "0ca41ffd",
   "metadata": {},
   "outputs": [
    {
     "name": "stdout",
     "output_type": "stream",
     "text": [
      "распределения равны\n"
     ]
    },
    {
     "data": {
      "text/plain": [
       "(-0.6398988386814893, 0.5223597081606046)"
      ]
     },
     "execution_count": 20,
     "metadata": {},
     "output_type": "execute_result"
    }
   ],
   "source": [
    "test_calc(df_mw['BLOOD1'],df_mw['BLOOD2'])"
   ]
  },
  {
   "cell_type": "markdown",
   "id": "5943bf37",
   "metadata": {},
   "source": [
    "На основании результатов теста Стьюдента и теста Манна-Уитни делаем одинаковый вывод о равенстве распределений"
   ]
  },
  {
   "cell_type": "code",
   "execution_count": null,
   "id": "c3ad046a",
   "metadata": {},
   "outputs": [],
   "source": []
  }
 ],
 "metadata": {
  "kernelspec": {
   "display_name": "Python 3 (ipykernel)",
   "language": "python",
   "name": "python3"
  },
  "language_info": {
   "codemirror_mode": {
    "name": "ipython",
    "version": 3
   },
   "file_extension": ".py",
   "mimetype": "text/x-python",
   "name": "python",
   "nbconvert_exporter": "python",
   "pygments_lexer": "ipython3",
   "version": "3.9.12"
  }
 },
 "nbformat": 4,
 "nbformat_minor": 5
}
